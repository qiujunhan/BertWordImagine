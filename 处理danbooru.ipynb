{
 "cells": [
  {
   "cell_type": "code",
   "execution_count": 2,
   "metadata": {
    "collapsed": true
   },
   "outputs": [],
   "source": [
    "import random\n",
    "from glob import glob\n",
    "import random\n",
    "from tqdm import tqdm\n",
    "import numpy as np\n",
    "import pymysql\n",
    "import orjson as json\n",
    "import re\n",
    "\n",
    "def create_db(database):\n",
    "    db = pymysql.connect(host='localhost',\n",
    "                         user='root',\n",
    "                         password='123456',\n",
    "                         database=database)\n",
    "    return db\n"
   ]
  },
  {
   "cell_type": "code",
   "execution_count": 3,
   "outputs": [],
   "source": [
    "pixiv_db = create_db('pixiv_data')\n",
    "sd_db = create_db(\"stable_diffusion\")\n",
    "\n",
    "sql = 'select id,name from tags'\n",
    "cursor = sd_db.cursor()\n",
    "cursor.execute(sql)\n",
    "result = cursor.fetchall()\n",
    "id_tag = {id:name for id,name in result}\n",
    "tag_id = {name:id for id,name in result}"
   ],
   "metadata": {
    "collapsed": false
   }
  },
  {
   "cell_type": "code",
   "execution_count": 5,
   "outputs": [
    {
     "name": "stderr",
     "output_type": "stream",
     "text": [
      "100%|██████████| 8538/8538 [00:01<00:00, 4312.00it/s]"
     ]
    },
    {
     "name": "stdout",
     "output_type": "stream",
     "text": [
      "Tags written to 'all_prompts_remove_nfsw' table successfully.\n",
      "335\n",
      "['bat_(animal)', 'torn_pantyhose', 'rabbit', 'object_through_head', 'torn_thighhighs', 'white_pantyhose', 'black_pantyhose', 'female_child', 'upper_teeth_only', 'meiko_(vocaloid)', 'avatar_(ff11)', 'black_thighhighs', 'black_socks', 'male_child', 'bikini_top_only', 'breasts_out', 'bridal_garter', 'traditional_youkai', 'breasts_squeezed_together', 'white_thighhighs', 'dyed_bangs', 'single_hair_bun', 'brown_pantyhose', 'tachibana_kanade', 'mithra_(ff11)', 'stretching', 'chain_leash', 'fishnet_pantyhose', 'white_socks', 'grey_pantyhose', 'checkered_clothes', 'chest_sarashi', 'striped_pantyhose', 'orange_pantyhose', 'name_connection', 'side-tie_bikini_bottom', 'avatar_(ff14)', 'boo_tao_(genshin_impact)', 'clumsy_nun_(diva)', 'black_one-piece_swimsuit', 'osaki_amana', 'red_pantyhose', 'akizuki_ryo', 'united_states', 'pink_pantyhose', 'magazine_(object)', \"holding_another's_wrist\", 'legwear_garter', 'eyebrows_hidden_by_hair', 'purple_pantyhose', 'painting_(action)', 'osaki_tenka', 'spacecraft', 'hand_in_own_hair', 'covering_own_eyes', 'smoking_pipe', 'black_necktie', 'monster_hunter_(character)', 'cross-shaped_pupils', 'etna_(disgaea)', 'reaching_towards_viewer', 'blue_thighhighs', 'red_bowtie', 'sample_watermark', 'split-color_hair', 'ornate_ring', 'blue_socks', 'blue_pantyhose', 'brown_socks', 'rabbit_hair_ornament', 'grey_thighhighs', 'brown_thighhighs', 'white_one-piece_swimsuit', 'striped_socks', 'red_neckerchief', 'blue_one-piece_swimsuit', 'ranni_the_witch', 'contrail', 'red_necktie', 'cone_hair_bun', 'black_leggings', 'jaggy_lines', 'one-piece_swimsuit_pull', 'onee-loli', 'non-humanoid_robot', 'spicy_nun_(diva)', 'cheating_(relationship)', 'rabbit_costume', 'black_bowtie', 'military_helmet', 'blue_necktie', 'blue_neckerchief', 'striped_thighhighs', 'front-tie_bikini_top', 'lower_teeth_only', 'red_ascot', 'kirima_syaro', 'red_socks', 'okita_souji_(koha-ace)', 'dreadlocks', 'irene_(arknights)', 'onee-shota', 'industrial_pipe', 'ryuzaki_kaoru', 'finger_in_own_mouth', 'shigure_kai_ni_(kancolle)', 'glaive_(polearm)', 'pink_neckerchief', 'flame-tipped_tail', 'ahri_(league_of_legends)', 'karin_(bunny)_(blue_archive)', 'white_neckerchief', 'affectionate', 'froggy_nun_(diva)', 'rising_sun_flag', 'yellow_thighhighs', 'bow_(music)', 'inoue_takina', 'black_neckerchief', 'sanji_(one_piece)', 'blue_bowtie', 'asakura_toru', 'chips_(food)', 'circled_9', 'white_ascot', 'folded_fan', 'green_pantyhose', 'green_bowtie', 'arthropod_limbs', 'utsumi_erice', 'baton_(conducting)', 'egg_(food)', 'single_side_bun', 'white_bowtie', 'vertical-striped_thighhighs', 'nilou_(genshin_impact)', 'black_ascot', 'median_furrow', 'musou_isshin_(genshin_impact)', 'traditional_bowtie', 'la+_darknesss', 'green_thighhighs', 'yellow_ascot', 'red_thighhighs', 'grey_neckerchief', 'fishnet_thighhighs', 'blue_gemstone', 'asashio_kai_ni_(kancolle)', 'oda_nobunaga_(koha-ace)', 'cooperative_paizuri', 'yellow_neckerchief', 'striped_bowtie', 'red_one-piece_swimsuit', 'vertical-striped_pantyhose', 'brushing_hair', 'orange_thighhighs', 'stroking_own_chin', 'human_scabbard', 'cooperative_fellatio', 'kasumi_kai_ni_(kancolle)', 'sendai_kai_ni_(kancolle)', 'white_necktie', 'purple_tail', 'yae_miko', 'red_gemstone', 'gem_(symbol)', 'shenhe_(genshin_impact)', 'purple_thighhighs', 'frilled_thighhighs', 'griffin_&_kryuger_military_uniform', 'ijichi_nijika', 'blue_ascot', 'thick_arms', 'kazama_iroha', 'takane_lui', 'frilled_socks', 'aris_(blue_archive)', \"kousaka_kirino's_school_uniform\", 'midriff_sarashi', 'miyu_(blue_archive)', 'green_necktie', 'holding_smoking_pipe', \"takodachi_(ninomae_ina'nis)\", 'saijo_juri', 'layered_clothes', 'pantyhose_under_shorts', 'orange_ascot', 'yellow_socks', 'zabaniyya_(housamo)', 'aqua_bowtie', 'see-through_leotard', 'a_certain_high_school_uniform', 'pink_socks', 'rebecca_(cyberpunk)', 'striped_necktie', 'kiki_(majo_no_takkyuubin)', 'lisbeth_(sao)', 'green_neckerchief', 'tiki_(young)_(fire_emblem)', 'yellow_necktie', 'aqua_necktie', 'pink_necktie', 'grey_socks', 'striped_one-piece_swimsuit', 'yuudachi_kai_ni_(kancolle)', 'irida_(pokemon)', 'bikini_bottom_only', 'bra_visible_through_clothes', 'kabuto_(helmet)', 'nishikigi_chisato', 'pink_thighhighs', 'brown_bowtie', 'crisis_management_form_(machimazo)', 'pink_bowtie', 'jirai_kei', 'plaid_bowtie', 'lapels', \"licking_another's_face\", 'electrical_outlet', 'green_socks', 'sakamata_chloe', 'orange_necktie', 'rabbit_hood', 'lycoris_uniform', 'ashford_academy_school_uniform', 'st._chronica_academy_school_uniform', 'fur_cloak', 'purple_socks', 'naganami_kai_ni_(kancolle)', 'inkling_girl', 'purple_necktie', 'orange_bowtie', 'bar_(place)', 'head-mounted_display', 'checkered_necktie', 'purple_one-piece_swimsuit', 'kamiyama_high_school_uniform_(hyouka)', 'solid_circle_pupils', 'asuna_(bunny)_(blue_archive)', 'yelan_(genshin_impact)', 'kirisawa_juuzou_(character)', 'demon_slayer_uniform', 'shuuchiin_academy_school_uniform', 'green_gemstone', 'pink_ascot', 'tracen_training_uniform', 'green_one-piece_swimsuit', 'sticker_on_face', 'rabbit_on_head', 'sato_shin', 'yellow_bowtie', 'purple_bowtie', 'bow-shaped_hair', 'cube_hair_ornament', 'brown_necktie', 'guiding_hand', 'single_hair_ring', 'heart_o-ring', 'aqua_neckerchief', 'loaded_interior', 'musashi_kai_ni_(kancolle)', 'suletta_mercury', 'hakui_koyori', 'miorine_rembran', 'fujimaru_ritsuka_(female)_(polar_chaldea_uniform)', 'print_bowtie', 'two-tone_bowtie', 'homurahara_academy_school_uniform', 'orange_neckerchief', 'eden_academy_school_uniform', 'swimsuit_cover-up', 'amplifier', 'sleeve_grab', 'kiwi_(fruit)', 'brown_neckerchief', 'bruno_bucciarati', 'fubuki_kai_ni_(kancolle)', 'octoling_girl', 'hina_(swimsuit)_(blue_archive)', 'plaid_necktie', 'grey_necktie', 'back_focus', 'print_necktie', 'hibiki_(cheerleader)_(blue_archive)', 'goldenglow_(arknights)', 'lucy_(cyberpunk)', 'hyakumantenbara_salome', 'toyokawa_fuka', 'purple_gemstone', 'pancake_stack', 'shamoji', 'motosu_school_uniform', 'toutetsu_yuuma', 'ui_(blue_archive)', 'pink_one-piece_swimsuit', 'galaxy_expedition_team_survey_corps_uniform', \"st._theresa's_girls_academy_school_uniform\", 'purple_ascot', 'starlight_academy_school_uniform', 'nahida_(genshin_impact)', 'murakumo_kai_ni_(kancolle)', 'hayakawa_aki', 'yukoku_kiriko', 'maya_kai_ni_(kancolle)', 'nijigasaki_academy_school_uniform', 'greyscale_with_colored_background', 'sleeveless_turtleneck_leotard', 'cetacean_tail', 'tokyo-3_middle_school_uniform', 'wataboushi', 'purple_neckerchief', 'multiple_drawing_challenge', 'kongou_kai_ni_(kancolle)', 'shiroko_(swimsuit)_(blue_archive)', 'kuki_shinobu', 'fujimaru_ritsuka_(male)_(polar_chaldea_uniform)', 'pokephilia', 'diagonal-striped_necktie', 'sailor_moon_redraw_challenge_(meme)', 'shuujin_academy_school_uniform', 'evangelion_(mecha)', 'tracen_swimsuit', 'inkling_boy', 'iono_(pokemon)', 'magical_mirai_miku', 'haruna_kai_ni_(kancolle)', 'murasame_kai_ni_(kancolle)', 'arataki_itto', 'master_3_(housamo)', 'sirius_(scorching-hot_seirios)_(azur_lane)', 'hasumi_(gym_uniform)_(blue_archive)', 'saren_(summer)_(princess_connect!)', 'karyl_(summer)_(princess_connect!)', 'kissing_forehead', 'tiki_(adult)_(fire_emblem)']\n"
     ]
    },
    {
     "name": "stderr",
     "output_type": "stream",
     "text": [
      "\n"
     ]
    }
   ],
   "source": [
    "# 将tags.txt写入表all_prompts_remove_nfsw\n",
    "def write_tags_to_table(connection, cursor, filename):\n",
    "    not_in_db = []\n",
    "    with open(filename, 'r') as file:\n",
    "        tags = file.read().split(\",\")\n",
    "\n",
    "        for i,tag in enumerate(tqdm(tags)):\n",
    "            tag = tag.strip().replace(\" \",\"_\")\n",
    "            if tag in tag_id:\n",
    "\n",
    "                id = tag_id[tag]\n",
    "\n",
    "                cursor.execute(\"INSERT IGNORE INTO all_prompts_remove_nfsw (prompt_tag_id, tag) VALUES (%s, %s)\", (id, tag))\n",
    "            else:\n",
    "                not_in_db.append(tag)\n",
    "\n",
    "        connection.commit()\n",
    "    print(\"Tags written to 'all_prompts_remove_nfsw' table successfully.\")\n",
    "    return not_in_db\n",
    "\n",
    "\n",
    "\n",
    "connection = create_db(\"stable_diffusion\")\n",
    "if connection:\n",
    "    cursor = connection.cursor()\n",
    "\n",
    "    not_in_db = write_tags_to_table(connection, cursor, r\"C:\\sd\\my_code\\all_prompts_remove_nfsw.txt\")\n",
    "\n",
    "    # 关闭连接\n",
    "    cursor.close()\n",
    "    connection.close()\n",
    "print(len(not_in_db))\n",
    "print(not_in_db)"
   ],
   "metadata": {
    "collapsed": false
   }
  },
  {
   "cell_type": "code",
   "execution_count": 54,
   "outputs": [],
   "source": [
    "#获取id和tag的对应关系\n",
    "sql = 'select prompt_tag_id,tag from all_prompts_remove_nfsw'\n",
    "cursor = sd_db.cursor()\n",
    "cursor.execute(sql)\n",
    "result = cursor.fetchall()\n",
    "id_tag = {str(id):name for id,name in result}\n",
    "tag_id = {name:str(id) for id,name in result}"
   ],
   "metadata": {
    "collapsed": false
   }
  },
  {
   "cell_type": "code",
   "execution_count": 55,
   "outputs": [],
   "source": [
    "#获取全部tags\n",
    "sql = 'select tags,pixiv_id from entries'\n",
    "cursor = sd_db.cursor()\n",
    "cursor.execute(sql)\n",
    "result = cursor.fetchall()\n"
   ],
   "metadata": {
    "collapsed": false
   }
  },
  {
   "cell_type": "code",
   "execution_count": 56,
   "outputs": [
    {
     "name": "stderr",
     "output_type": "stream",
     "text": [
      "100%|██████████| 4790576/4790576 [00:59<00:00, 80762.95it/s] \n"
     ]
    }
   ],
   "source": [
    "new_result = []\n",
    "for tags,pixiv_id in tqdm(result):\n",
    "    tags_id = tags\n",
    "    try:\n",
    "\n",
    "        tags_id = tags_id.replace('\"',\"\").replace(\"[\",\"\").replace(\"]\",\"\").split(\", \")\n",
    "    except:\n",
    "        print()\n",
    "    if not isinstance(tags_id,list):\n",
    "        print()\n",
    "    new_tags_id = []\n",
    "    for id in tags_id:\n",
    "\n",
    "        id = id.replace(\",\",\"\")\n",
    "\n",
    "        if id in id_tag:\n",
    "            new_tags_id.append(id)\n",
    "\n",
    "    new_result.append(new_tags_id)\n",
    "\n",
    "\n"
   ],
   "metadata": {
    "collapsed": false
   }
  },
  {
   "cell_type": "code",
   "execution_count": 57,
   "outputs": [],
   "source": [
    "\n",
    "len_all_taggers = len(new_result)\n",
    "train_num = int(len_all_taggers * 0.9)\n",
    "test_num = int(len_all_taggers * 0.1)\n",
    "train_output_json = {\"id_tag\":id_tag,\"tags\":new_result[:train_num]}\n",
    "test_output_json = {\"id_tag\":id_tag,\"tags\":new_result[train_num:]}\n",
    "\n",
    "\n",
    "with open(\"./data/bert/train.json\",\"wb\") as f:\n",
    "    f.write(json.dumps(train_output_json)+b\"\\n\")\n",
    "\n",
    "with open(\"./data/bert/test.json\",\"wb\") as f:\n",
    "    f.write(json.dumps(test_output_json) + b\"\\n\")\n",
    "\n"
   ],
   "metadata": {
    "collapsed": false
   }
  },
  {
   "cell_type": "code",
   "execution_count": null,
   "outputs": [],
   "source": [],
   "metadata": {
    "collapsed": false
   }
  }
 ],
 "metadata": {
  "kernelspec": {
   "display_name": "Python 3",
   "language": "python",
   "name": "python3"
  },
  "language_info": {
   "codemirror_mode": {
    "name": "ipython",
    "version": 2
   },
   "file_extension": ".py",
   "mimetype": "text/x-python",
   "name": "python",
   "nbconvert_exporter": "python",
   "pygments_lexer": "ipython2",
   "version": "2.7.6"
  }
 },
 "nbformat": 4,
 "nbformat_minor": 0
}
